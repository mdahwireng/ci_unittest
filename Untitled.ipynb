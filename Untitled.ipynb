{
 "cells": [
  {
   "cell_type": "code",
   "execution_count": 11,
   "id": "8c08147e",
   "metadata": {},
   "outputs": [],
   "source": [
    "import unittest\n",
    "from validate import  validate_num, validate_str, validate_email\n",
    "\n",
    "\n",
    "class TestValidate(unittest.TestCase):\n",
    "    \"\"\"\n",
    "        A class for unit-testing function in the validate.py file\n",
    "        It inherits from the unittest module\n",
    "\t\"\"\" \n",
    "    def setUp(self):\n",
    "        self.test = {'validate_num':{'test':8990, 'expected_output':True},\n",
    "                    'validate_str':{'test':9943, 'expected_output':True},\n",
    "                    'validate_email':{'test':'jksrt@main', 'expected_output':False}}\n",
    "\n",
    "    def test_validate_num(self):\n",
    "        #print(self)\n",
    "        self.assertCountEqual(validate_num(self.test['validate_num']['test']), \n",
    "                                self.test['validate_num']['expected_output'])\n",
    "\n",
    "    def test_validate_str(self):\n",
    "        self.assertCountEqual(validate_str(self.test['validate_str']['test']), \n",
    "                                self.test['validate_str']['expected_output'])\n",
    "\n",
    "    def test_validate_email(self):\n",
    "        self.assertCountEqual(validate_email(self.test['validate_email']['test']), \n",
    "                                self.test['validate_email']['expected_output'])\n",
    "\n",
    "\n"
   ]
  },
  {
   "cell_type": "code",
   "execution_count": 12,
   "id": "ef3574f3",
   "metadata": {},
   "outputs": [
    {
     "data": {
      "text/plain": [
       "<__main__.TestValidate testMethod=runTest>"
      ]
     },
     "execution_count": 12,
     "metadata": {},
     "output_type": "execute_result"
    }
   ],
   "source": [
    "TestValidate()"
   ]
  }
 ],
 "metadata": {
  "kernelspec": {
   "display_name": "Python 3",
   "language": "python",
   "name": "python3"
  },
  "language_info": {
   "codemirror_mode": {
    "name": "ipython",
    "version": 3
   },
   "file_extension": ".py",
   "mimetype": "text/x-python",
   "name": "python",
   "nbconvert_exporter": "python",
   "pygments_lexer": "ipython3",
   "version": "3.8.8"
  }
 },
 "nbformat": 4,
 "nbformat_minor": 5
}
